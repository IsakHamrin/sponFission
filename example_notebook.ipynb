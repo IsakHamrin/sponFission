{
 "cells": [
  {
   "cell_type": "markdown",
   "id": "46772f8f",
   "metadata": {},
   "source": [
    "# This is an example usage of the package sponFission"
   ]
  },
  {
   "cell_type": "code",
   "execution_count": 1,
   "id": "8fc3a0f5",
   "metadata": {},
   "outputs": [],
   "source": [
    "import sponFission as sf"
   ]
  },
  {
   "cell_type": "markdown",
   "id": "3b0f4774",
   "metadata": {},
   "source": [
    "The first thing we do is create the object."
   ]
  },
  {
   "cell_type": "code",
   "execution_count": 2,
   "id": "5c1ddd5a",
   "metadata": {},
   "outputs": [],
   "source": [
    "UO2Cs = sf.Material()"
   ]
  },
  {
   "cell_type": "markdown",
   "id": "41a791ea",
   "metadata": {},
   "source": [
    "We can then add how many nuclides we want. The default is adding them with their atomic fraction."
   ]
  },
  {
   "cell_type": "code",
   "execution_count": 3,
   "id": "0dabde88",
   "metadata": {},
   "outputs": [],
   "source": [
    "UO2Cs.add_nuclide('U235', 0.04)\n",
    "UO2Cs.add_nuclide('U238', 0.96)\n",
    "UO2Cs.add_nuclide('O16', 2.0)\n"
   ]
  },
  {
   "cell_type": "markdown",
   "id": "0c3e3cbb",
   "metadata": {},
   "source": [
    "If there is a material which is not already covered, we can add their information ourself."
   ]
  },
  {
   "cell_type": "code",
   "execution_count": 4,
   "id": "55cc49bf",
   "metadata": {},
   "outputs": [],
   "source": [
    "sf.add_nuclide_data('Cs137', half_life=949232333, sf_branching_ratio=0, molar_mass=137)\n"
   ]
  },
  {
   "cell_type": "markdown",
   "id": "dbb8792e",
   "metadata": {},
   "source": [
    "And it can now be added to our object."
   ]
  },
  {
   "cell_type": "code",
   "execution_count": 5,
   "id": "74a62635",
   "metadata": {},
   "outputs": [],
   "source": [
    "UO2Cs.add_nuclide('Cs137', 1)"
   ]
  },
  {
   "cell_type": "markdown",
   "id": "eb158082",
   "metadata": {},
   "source": [
    "We will now add the density, we can add it in g/cm3 (default) or kg/m3"
   ]
  },
  {
   "cell_type": "code",
   "execution_count": 6,
   "id": "c9d6e8fc",
   "metadata": {},
   "outputs": [],
   "source": [
    "UO2Cs.set_density(10.5, 'g/cm3')"
   ]
  },
  {
   "cell_type": "markdown",
   "id": "f76d3cd0",
   "metadata": {},
   "source": [
    "We can add the volume, however it is not mandatory. If we add a volume we will later get the result in fission/s, if we do not the result will be in fission/s/cm3. The default is cm3 but we can also give it in m3."
   ]
  },
  {
   "cell_type": "code",
   "execution_count": 7,
   "id": "22224803",
   "metadata": {},
   "outputs": [],
   "source": [
    "UO2Cs.set_volume(10)"
   ]
  },
  {
   "cell_type": "markdown",
   "id": "3d09c76c",
   "metadata": {},
   "source": [
    "We can now estimate the spontaneous fission! "
   ]
  },
  {
   "cell_type": "code",
   "execution_count": 8,
   "id": "9a819b1f",
   "metadata": {},
   "outputs": [
    {
     "name": "stdout",
     "output_type": "stream",
     "text": [
      "Warning: No data for O16, skipping.\n"
     ]
    },
    {
     "data": {
      "text/plain": [
       "0.1708088937690707"
      ]
     },
     "execution_count": 8,
     "metadata": {},
     "output_type": "execute_result"
    }
   ],
   "source": [
    "UO2Cs.get_sf()"
   ]
  },
  {
   "cell_type": "markdown",
   "id": "67684856",
   "metadata": {},
   "source": [
    "As we can see above, nuclides that have no data gets a warning and is then skipped."
   ]
  },
  {
   "cell_type": "markdown",
   "id": "88a56f6f",
   "metadata": {},
   "source": [
    "If we would like to express the nuclides in number densities (barn-1cm-1), we can create another object where we turn that on with set_number_densities. "
   ]
  },
  {
   "cell_type": "code",
   "execution_count": 9,
   "id": "b0e2dc58",
   "metadata": {},
   "outputs": [],
   "source": [
    "another_material = sf.Material()\n",
    "another_material.set_number_densities(True)"
   ]
  },
  {
   "cell_type": "markdown",
   "id": "fa0d4256",
   "metadata": {},
   "source": [
    "We can then continue as normal, except the second argument in add_nuclide will be in barn-1cm-1 instead of a fraction."
   ]
  },
  {
   "cell_type": "code",
   "execution_count": 10,
   "id": "a1966062",
   "metadata": {},
   "outputs": [
    {
     "data": {
      "text/plain": [
       "1.9462464807796754e-12"
      ]
     },
     "execution_count": 10,
     "metadata": {},
     "output_type": "execute_result"
    }
   ],
   "source": [
    "another_material.add_nuclide('Th232',   7.06104652673138E-15)\n",
    "another_material.add_nuclide('U233',    2.35088603140821E-11)\n",
    "another_material.set_density(10, 'g/cm3')\n",
    "another_material.get_sf()"
   ]
  },
  {
   "cell_type": "code",
   "execution_count": 11,
   "id": "62cf7a26",
   "metadata": {},
   "outputs": [
    {
     "ename": "ValueError",
     "evalue": "Atomic fraction or number density must be non-negative. Got -0.1.",
     "output_type": "error",
     "traceback": [
      "\u001b[1;31m---------------------------------------------------------------------------\u001b[0m",
      "\u001b[1;31mValueError\u001b[0m                                Traceback (most recent call last)",
      "Cell \u001b[1;32mIn[11], line 2\u001b[0m\n\u001b[0;32m      1\u001b[0m a \u001b[38;5;241m=\u001b[39m sf\u001b[38;5;241m.\u001b[39mMaterial()\n\u001b[1;32m----> 2\u001b[0m a\u001b[38;5;241m.\u001b[39madd_nuclide(\u001b[38;5;124m'\u001b[39m\u001b[38;5;124mU235\u001b[39m\u001b[38;5;124m'\u001b[39m, \u001b[38;5;241m-\u001b[39m\u001b[38;5;241m0.1\u001b[39m)\n\u001b[0;32m      3\u001b[0m a\u001b[38;5;241m.\u001b[39mset_density(\u001b[38;5;241m1\u001b[39m, \u001b[38;5;124m'\u001b[39m\u001b[38;5;124mm\u001b[39m\u001b[38;5;124m'\u001b[39m)\n\u001b[0;32m      4\u001b[0m a\u001b[38;5;241m.\u001b[39mget_sf()\n",
      "File \u001b[1;32mc:\\Users\\isakh\\Year4\\Reaktorfysikmpython\\Project\\sponFission\\sponFission\\material.py:46\u001b[0m, in \u001b[0;36mMaterial.add_nuclide\u001b[1;34m(self, name, atomic_fraction)\u001b[0m\n\u001b[0;32m     33\u001b[0m \u001b[38;5;250m\u001b[39m\u001b[38;5;124;03m\"\"\"\u001b[39;00m\n\u001b[0;32m     34\u001b[0m \u001b[38;5;124;03mMethod to add nuclides and its atomic fraction or number densities\u001b[39;00m\n\u001b[0;32m     35\u001b[0m \n\u001b[1;32m   (...)\u001b[0m\n\u001b[0;32m     43\u001b[0m \u001b[38;5;124;03m    If true (default) it assumes atomics fractions is used, if false it assumes number densities is used\u001b[39;00m\n\u001b[0;32m     44\u001b[0m \u001b[38;5;124;03m\"\"\"\u001b[39;00m\n\u001b[0;32m     45\u001b[0m \u001b[38;5;28;01mif\u001b[39;00m atomic_fraction \u001b[38;5;241m<\u001b[39m \u001b[38;5;241m0\u001b[39m:\n\u001b[1;32m---> 46\u001b[0m     \u001b[38;5;28;01mraise\u001b[39;00m \u001b[38;5;167;01mValueError\u001b[39;00m(\u001b[38;5;124mf\u001b[39m\u001b[38;5;124m\"\u001b[39m\u001b[38;5;124mAtomic fraction or number density must be non-negative. Got \u001b[39m\u001b[38;5;132;01m{\u001b[39;00matomic_fraction\u001b[38;5;132;01m}\u001b[39;00m\u001b[38;5;124m.\u001b[39m\u001b[38;5;124m\"\u001b[39m)\n\u001b[0;32m     47\u001b[0m \u001b[38;5;28mself\u001b[39m\u001b[38;5;241m.\u001b[39mnuclides\u001b[38;5;241m.\u001b[39mappend(name)\n\u001b[0;32m     48\u001b[0m \u001b[38;5;28mself\u001b[39m\u001b[38;5;241m.\u001b[39matomic_fractions\u001b[38;5;241m.\u001b[39mappend(atomic_fraction)\n",
      "\u001b[1;31mValueError\u001b[0m: Atomic fraction or number density must be non-negative. Got -0.1."
     ]
    }
   ],
   "source": [
    "a = sf.Material()\n",
    "a.add_nuclide('U235', -0.1)\n",
    "a.set_density(1, 'm')\n",
    "a.get_sf()"
   ]
  }
 ],
 "metadata": {
  "kernelspec": {
   "display_name": "base",
   "language": "python",
   "name": "python3"
  },
  "language_info": {
   "codemirror_mode": {
    "name": "ipython",
    "version": 3
   },
   "file_extension": ".py",
   "mimetype": "text/x-python",
   "name": "python",
   "nbconvert_exporter": "python",
   "pygments_lexer": "ipython3",
   "version": "3.11.7"
  }
 },
 "nbformat": 4,
 "nbformat_minor": 5
}
